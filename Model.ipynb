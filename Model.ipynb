{
 "cells": [
  {
   "cell_type": "markdown",
   "metadata": {},
   "source": [
    "# Import the dependencies"
   ]
  },
  {
   "cell_type": "code",
   "execution_count": 1,
   "metadata": {},
   "outputs": [],
   "source": [
    "import numpy as np\n",
    "import pandas as pd\n",
    "import matplotlib.pyplot as plt\n",
    "from sklearn.datasets import make_blobs\n",
    "from sklearn.model_selection import train_test_split\n",
    "from sklearn.metrics import accuracy_score"
   ]
  },
  {
   "cell_type": "markdown",
   "metadata": {},
   "source": [
    "<br>\n",
    "\n",
    "# Activation functions"
   ]
  },
  {
   "cell_type": "code",
   "execution_count": 2,
   "metadata": {},
   "outputs": [],
   "source": [
    "class Activation():\n",
    "    def fn(self, x):\n",
    "        raise ValueError(\"Method Layer.fn was not implemented!\")\n",
    "    \n",
    "    def fn_prime(self, x):\n",
    "        raise ValueError(\"Method Layer.fn_prime was not implemented!\")"
   ]
  },
  {
   "cell_type": "code",
   "execution_count": 3,
   "metadata": {},
   "outputs": [],
   "source": [
    "class EmptyActivation():\n",
    "    def fn(self, x):\n",
    "        return x\n",
    "    \n",
    "    def fn_prime(self, x):\n",
    "        return x"
   ]
  },
  {
   "cell_type": "code",
   "execution_count": 4,
   "metadata": {},
   "outputs": [],
   "source": [
    "class Sigmoid():\n",
    "    def fn(self, x):\n",
    "        return 1 / (1 + np.exp(-x))\n",
    "    \n",
    "    def fn_prime(self, x):\n",
    "        return self.fn(x) / (1 + self.fn(x))"
   ]
  },
  {
   "cell_type": "code",
   "execution_count": 5,
   "metadata": {},
   "outputs": [],
   "source": [
    "class ReLu():\n",
    "    def fn(self, x):\n",
    "        return np.maximum(x,0)\n",
    "    \n",
    "    def fn_prime(self, x):\n",
    "        return np.maximum(x,0)"
   ]
  },
  {
   "cell_type": "markdown",
   "metadata": {},
   "source": [
    "<br/>\n",
    "\n",
    "# Create the basic layer"
   ]
  },
  {
   "cell_type": "code",
   "execution_count": 6,
   "metadata": {},
   "outputs": [],
   "source": [
    "class Layer:\n",
    "    \n",
    "    def __init__(self):\n",
    "        self.__input = None\n",
    "        self.__output = None\n",
    "    \n",
    "    def forward(inputs):\n",
    "        raise ValueError('Method Layer.forward was not implemented!')\n",
    "    \n",
    "    def backward(error):\n",
    "        raise ValueError('Method Layer.backward was not implemented!')\n",
    "    \n",
    "    def commit(error):\n",
    "        raise ValueError('Method Layer.commit was not implemented!')"
   ]
  },
  {
   "cell_type": "markdown",
   "metadata": {},
   "source": [
    "<br/>\n",
    "\n",
    "# Create the dense layer"
   ]
  },
  {
   "cell_type": "markdown",
   "metadata": {},
   "source": [
    "\\begin{equation*}\n",
    "\\Large\\hat y = \\sigma(\\sum_{\\mu = 0}\\sum_{i = 0}(W_{\\mu, i} \\times X_{\\mu, i}))\n",
    "\\end{equation*}\n",
    "\n",
    "<br>\n",
    "\n",
    "\\begin{equation*}\n",
    "\\Large\\delta_{0} = (y - \\hat y) \\times f'(h_{\\mu})\n",
    "\\end{equation*}\n",
    "\n",
    "<br>\n",
    "\n",
    "\\begin{equation*}\n",
    "\\Large\\delta_{\\mu} = \\sum_{i=0}[W_{\\mu, i} \\times \\delta_{0}] \\times f'(h_{\\mu})\n",
    "\\end{equation*}\n",
    "\n",
    "<br>\n",
    "\n",
    "\\begin{equation*}\n",
    "\\Large\\Delta W_j = \\Delta W_j + \\delta_{j} \\times X_{j}\n",
    "\\end{equation*}\n",
    "\n",
    "<br>\n",
    "\n",
    "\\begin{equation*}\n",
    "\\Large W_{j} = W_{j} + \\eta \\times \\Delta W_j\n",
    "\\end{equation*}"
   ]
  },
  {
   "cell_type": "code",
   "execution_count": 58,
   "metadata": {},
   "outputs": [],
   "source": [
    "class Dense(Layer):\n",
    "    def __init__(self, input_size, size, activation='relu', learnrate=0.1):\n",
    "        self.__input = None\n",
    "        self.__output = None\n",
    "        self.__neurons_size = size\n",
    "        self.__weights = np.random.normal(scale=1 / input_size ** .5, size=(input_size, size))\n",
    "        self.__learnrate = learnrate\n",
    "        self.__size = size\n",
    "        \n",
    "        self.reset_train()\n",
    "        \n",
    "        if activation.lower() == 'sigmoid':\n",
    "            self.__activation = Sigmoid()\n",
    "        elif activation.lower() == 'relu':\n",
    "            self.__activation = ReLu()\n",
    "        else:\n",
    "            self.__activation = EmptyActivation()\n",
    "    \n",
    "    def reset_train(self):\n",
    "        self.__del_w = np.zeros(self.__weights.shape)\n",
    "        self.__train_records = 0\n",
    "    \n",
    "    def forward(self, inputs):\n",
    "        inputs = np.array(inputs)\n",
    "        \n",
    "        if len(inputs.shape) == 1:\n",
    "            inputs = inputs.reshape(1, inputs.shape[0])\n",
    "        \n",
    "        self.__input = inputs\n",
    "        summ = np.dot(self.__input, self.__weights)\n",
    "        \n",
    "        self.__output = self.__activation.fn(summ)\n",
    "        return self.__output\n",
    "    \n",
    "    def backward(self, error):\n",
    "        sigma = np.sum(np.sum(error) * self.__activation.fn_prime(np.dot(self.__input, self.__weights)))\n",
    "        del_w = sigma * self.__input.reshape((self.__input.shape[1], self.__input.shape[0],))\n",
    "        \n",
    "        self.__del_w += del_w\n",
    "        self.__train_records += 1\n",
    "        \n",
    "        return np.dot(sigma, self.__weights)\n",
    "    \n",
    "    def commit(self):\n",
    "        self.__weights -= self.__learnrate * self.__del_w / self.__train_records\n",
    "        \n",
    "        self.reset_train()"
   ]
  },
  {
   "cell_type": "markdown",
   "metadata": {},
   "source": [
    "### Testing"
   ]
  },
  {
   "cell_type": "code",
   "execution_count": 26,
   "metadata": {},
   "outputs": [
    {
     "name": "stdout",
     "output_type": "stream",
     "text": [
      "[[1.18746856e-05]]\n"
     ]
    },
    {
     "data": {
      "text/plain": [
       "array([[-1.03076796e-06],\n",
       "       [ 3.13753802e-06],\n",
       "       [-7.91084643e-07],\n",
       "       [ 4.20666487e-06],\n",
       "       [ 1.83681111e-06],\n",
       "       [-9.04633679e-06],\n",
       "       [-8.51363481e-06],\n",
       "       [-6.93871700e-06],\n",
       "       [-2.87932922e-07],\n",
       "       [-1.00036781e-06]])"
      ]
     },
     "execution_count": 26,
     "metadata": {},
     "output_type": "execute_result"
    }
   ],
   "source": [
    "x = np.arange(0, 10)\n",
    "\n",
    "n = Dense(input_size=10, size=1, activation='sigmoid')\n",
    "\n",
    "error = 1 - n.forward(x)\n",
    "\n",
    "print(n.forward(x))\n",
    "\n",
    "n.backward(np.array([error]))"
   ]
  },
  {
   "cell_type": "markdown",
   "metadata": {},
   "source": [
    "<br/>\n",
    "\n",
    "# Defining the Gradient Descent Network"
   ]
  },
  {
   "cell_type": "code",
   "execution_count": 54,
   "metadata": {},
   "outputs": [],
   "source": [
    "class Network:\n",
    "    def __init__(self):\n",
    "        self.__layers = []\n",
    "    \n",
    "    def add(self, layer):\n",
    "        self.__layers.append(layer)\n",
    "    \n",
    "    def __forward(self, inputs):\n",
    "        input_next = inputs\n",
    "        \n",
    "        for layer in self.__layers:\n",
    "            input_next = layer.forward(input_next)\n",
    "        \n",
    "        return input_next\n",
    "    \n",
    "    def __backward(self, errors):\n",
    "        errors_next = errors\n",
    "        \n",
    "        for layer in self.__layers[::-1]:\n",
    "            error = layer.backward(errors_next)\n",
    "\n",
    "    def __commit(self):\n",
    "        for layer in self.__layers:\n",
    "            error = layer.commit()\n",
    "            \n",
    "    def fit(self, X, y, epochs):\n",
    "        for e in range(epochs):\n",
    "            for x_train, y_train in zip(X, y):\n",
    "                \n",
    "                y_train = np.array(y_train)\n",
    "                x_train = np.array(x_train)\n",
    "                \n",
    "                y_h = self.__forward(x_train)\n",
    "                error = y_train - y_h\n",
    "                \n",
    "                self.__backward(error)\n",
    "            \n",
    "                self.__commit()\n",
    "    \n",
    "    def predict(self, X):\n",
    "        return np.array([self.__forward(x)[0] for x in X])"
   ]
  },
  {
   "cell_type": "markdown",
   "metadata": {},
   "source": [
    "<br/>\n",
    "\n",
    "# Testing"
   ]
  },
  {
   "cell_type": "markdown",
   "metadata": {},
   "source": [
    "### Prepare the dataset"
   ]
  },
  {
   "cell_type": "code",
   "execution_count": 10,
   "metadata": {},
   "outputs": [
    {
     "data": {
      "image/png": "[encoded data removed]",
      "text/plain": [
       "<Figure size 432x288 with 1 Axes>"
      ]
     },
     "metadata": {
      "needs_background": "light"
     },
     "output_type": "display_data"
    }
   ],
   "source": [
    "# Generate 2D dataset\n",
    "X, y = make_blobs(n_samples=100, centers=2, n_features=2)\n",
    "\n",
    "# Split in train and test dataset\n",
    "X_train, X_test, y_train, y_test = train_test_split(X, y, stratify=y, test_size=0.2, random_state=42)\n",
    "\n",
    "labels = {0:'red_train', 1:'blue_train', 2:'red_test', 3:'blue_test'}\n",
    "colors = {0:'red', 1:'#3e06cc', 2:'#ff9500', 3:'#67c3eb'}\n",
    "\n",
    "for x, key in zip(X_train, y_train):\n",
    "    plt.scatter(x[0], x[1], color=colors[key])\n",
    "\n",
    "for x, key in zip(X_test, y_test):\n",
    "    plt.scatter(x[0], x[1], label=labels[key+2], color=colors[key+2])\n",
    "\n",
    "plt.show()"
   ]
  },
  {
   "cell_type": "markdown",
   "metadata": {},
   "source": [
    "### Train the network"
   ]
  },
  {
   "cell_type": "code",
   "execution_count": 55,
   "metadata": {},
   "outputs": [],
   "source": [
    "net = Network()\n",
    "\n",
    "net.add(Dense(input_size=2, size=1, activation='sigmoid'))\n",
    "\n",
    "net.fit(X_train, y_train, epochs=100)"
   ]
  },
  {
   "cell_type": "code",
   "execution_count": 56,
   "metadata": {},
   "outputs": [
    {
     "data": {
      "text/plain": [
       "array([1, 1, 1, 1, 0, 0, 0, 1, 0, 0, 0, 1, 0, 0, 0, 1, 1, 0, 1, 1])"
      ]
     },
     "execution_count": 56,
     "metadata": {},
     "output_type": "execute_result"
    }
   ],
   "source": [
    "y_test"
   ]
  },
  {
   "cell_type": "code",
   "execution_count": 57,
   "metadata": {},
   "outputs": [
    {
     "data": {
      "text/plain": [
       "array([[0.],\n",
       "       [0.],\n",
       "       [0.],\n",
       "       [0.],\n",
       "       [1.],\n",
       "       [1.],\n",
       "       [1.],\n",
       "       [0.],\n",
       "       [1.],\n",
       "       [1.],\n",
       "       [1.],\n",
       "       [0.],\n",
       "       [1.],\n",
       "       [1.],\n",
       "       [1.],\n",
       "       [0.],\n",
       "       [0.],\n",
       "       [1.],\n",
       "       [0.],\n",
       "       [0.]])"
      ]
     },
     "execution_count": 57,
     "metadata": {},
     "output_type": "execute_result"
    }
   ],
   "source": [
    "net.predict(X_test)"
   ]
  },
  {
   "cell_type": "markdown",
   "metadata": {},
   "source": [
    "### Accuracy"
   ]
  },
  {
   "cell_type": "code",
   "execution_count": 40,
   "metadata": {},
   "outputs": [
    {
     "data": {
      "text/html": [
       "<h2>Accuracy: 0.00 %</h2>"
      ],
      "text/plain": [
       "<IPython.core.display.HTML object>"
      ]
     },
     "metadata": {},
     "output_type": "display_data"
    }
   ],
   "source": [
    "from IPython.core.display import display, HTML\n",
    "display(HTML('<h2>Accuracy: {:.2f} %</h2>'.format(accuracy_score(y_test, net.predict(X_test)) * 100)))"
   ]
  },
  {
   "cell_type": "code",
   "execution_count": null,
   "metadata": {},
   "outputs": [],
   "source": []
  }
 ],
 "metadata": {
  "kernelspec": {
   "display_name": "Python 3",
   "language": "python",
   "name": "python3"
  },
  "language_info": {
   "codemirror_mode": {
    "name": "ipython",
    "version": 3
   },
   "file_extension": ".py",
   "mimetype": "text/x-python",
   "name": "python",
   "nbconvert_exporter": "python",
   "pygments_lexer": "ipython3",
   "version": "3.7.4"
  }
 },
 "nbformat": 4,
 "nbformat_minor": 2
}
